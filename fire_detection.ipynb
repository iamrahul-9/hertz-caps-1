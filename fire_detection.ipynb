{
 "cells": [
  {
   "cell_type": "code",
   "execution_count": 3,
   "metadata": {
    "colab": {
     "base_uri": "https://localhost:8080/",
     "height": 130
    },
    "id": "RvMt5TYIEbwj",
    "outputId": "1d784779-7262-466a-d2c2-9c5f0c829d20"
   },
   "outputs": [
    {
     "name": "stdout",
     "output_type": "stream",
     "text": [
      "Video Input from Cam 1\n"
     ]
    }
   ],
   "source": [
    "import cv2\n",
    "import numpy as np\n",
    "\n",
    "video1 = cv2.VideoCapture(0)\n",
    "print(\"Video Input from Cam 1\")\n",
    "#video2 = cv2.VideoCapture(1)\n",
    "#print(\"Video Input from Cam 2\")\n",
    "\n",
    "while True:\n",
    "    ret1, frame1 = video1.read()\n",
    "    #ret2, frame2 = video2.read()\n",
    "    \n",
    "    frame1 = cv2.resize(frame1, (800,500))\n",
    "    #frame2 = cv2.resize(frame2, (800,500))\n",
    "    \n",
    "    blur1 = cv2.GaussianBlur(frame1, (15,15),0)\n",
    "    #blur2 = cv2.GaussianBlur(frame2, (15,15),0)\n",
    "    \n",
    "    hsv1 = cv2.cvtColor(blur1, cv2.COLOR_BGR2HSV)\n",
    "    #hsv2 = cv2.cvtColor(frame2, cv2.COLOR_BGR2HSV)\n",
    "    \n",
    "    lower = [22,50,50]\n",
    "    upper = [35,255,255]\n",
    "\n",
    "    lower = np.array(lower, dtype='uint8')\n",
    "    upper = np.array(upper, dtype='uint8')\n",
    "    \n",
    "    mask1 = cv2.inRange(hsv1,lower,upper)\n",
    "    #mask2 = cv2.inRange(hsv2,lower,upper)\n",
    "    \n",
    "    #output1 = cv2.bitwise_and(frame1,hsv1,mask=mask1)\n",
    "    #output2 = cv2.bitwise_and(frame2,hsv2,mask=mask2)\n",
    "    \n",
    "    fire_intensity_1 = cv2.countNonZero(mask1)\n",
    "    if int(fire_intensity_1) > 5000:\n",
    "        print(\"Potential Fire in Cam1\")\n",
    "    #fire_intensity_2 = cv2.countNonZero(mask2)\n",
    "    #if int(fire_intensity_2) > 5000:\n",
    "        #print(\"Potential Fire in Cam 2\")\n",
    "        \n",
    "    cv2.imshow(\"Cam 1\", frame1)\n",
    "    #cv2.imshow(\"Cam 2\", frame2)\n",
    "    \n",
    "    key = cv2.waitKey(1)\n",
    "    if key==ord('q'):\n",
    "        break\n",
    "        \n",
    "cv2.destroyAllWindows()\n",
    "video1.release()\n",
    "#video2.release()"
   ]
  },
  {
   "cell_type": "code",
   "execution_count": null,
   "metadata": {},
   "outputs": [],
   "source": []
  }
 ],
 "metadata": {
  "colab": {
   "provenance": []
  },
  "kernelspec": {
   "display_name": "Python 3 (ipykernel)",
   "language": "python",
   "name": "python3"
  },
  "language_info": {
   "codemirror_mode": {
    "name": "ipython",
    "version": 3
   },
   "file_extension": ".py",
   "mimetype": "text/x-python",
   "name": "python",
   "nbconvert_exporter": "python",
   "pygments_lexer": "ipython3",
   "version": "3.9.12"
  }
 },
 "nbformat": 4,
 "nbformat_minor": 1
}
