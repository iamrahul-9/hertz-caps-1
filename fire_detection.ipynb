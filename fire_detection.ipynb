{
 "cells": [
  {
   "cell_type": "code",
   "execution_count": 2,
   "id": "abefa246",
   "metadata": {
    "scrolled": false
   },
   "outputs": [
    {
     "name": "stdout",
     "output_type": "stream",
     "text": [
      "Video Input from Webcam\n"
     ]
    }
   ],
   "source": [
    "import cv2\n",
    "import numpy as np\n",
    "\n",
    "video = cv2.VideoCapture(0)\n",
    "\n",
    "print(\"Video Input from Webcam\")\n",
    "\n",
    "while True:\n",
    "    ret, frame = video.read()    \n",
    "    frame = cv2.resize(frame, (800,500))\n",
    "    blur = cv2.GaussianBlur(frame, (15,15),0)\n",
    "    hsv = cv2.cvtColor(blur, cv2.COLOR_BGR2HSV)\n",
    "    \n",
    "    lower = [22,50,50]\n",
    "    upper = [35,255,255]\n",
    "\n",
    "    lower = np.array(lower, dtype='uint8')\n",
    "    upper = np.array(upper, dtype='uint8')\n",
    "    mask = cv2.inRange(hsv,lower,upper)\n",
    "    output = cv2.bitwise_and(frame,hsv,mask=mask)\n",
    "    number_of_total = cv2.countNonZero(mask)\n",
    "    if int(number_of_total) > 500:\n",
    "        print(\"Potential Fire Detected\")\n",
    "\n",
    "    cv2.imshow(\"Result\", frame)\n",
    "    \n",
    "    key = cv2.waitKey(1)\n",
    "    \n",
    "    if key==ord('q'):\n",
    "        break\n",
    "\n",
    "cv2.destroyAllWindows()\n",
    "video.release()"
   ]
  },
  {
   "cell_type": "code",
   "execution_count": null,
   "id": "138b70cb",
   "metadata": {},
   "outputs": [],
   "source": []
  }
 ],
 "metadata": {
  "kernelspec": {
   "display_name": "Python 3 (ipykernel)",
   "language": "python",
   "name": "python3"
  },
  "language_info": {
   "codemirror_mode": {
    "name": "ipython",
    "version": 3
   },
   "file_extension": ".py",
   "mimetype": "text/x-python",
   "name": "python",
   "nbconvert_exporter": "python",
   "pygments_lexer": "ipython3",
   "version": "3.9.12"
  }
 },
 "nbformat": 4,
 "nbformat_minor": 5
}
